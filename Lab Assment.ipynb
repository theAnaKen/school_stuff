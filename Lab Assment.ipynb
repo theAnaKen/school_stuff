{
 "cells": [
  {
   "cell_type": "code",
   "execution_count": null,
   "id": "cba08ccb-7557-4524-a627-54426fe4b156",
   "metadata": {},
   "outputs": [],
   "source": [
    "# import gold price per gram\n",
    "# import weight of gold\n",
    "# calculate-\n",
    "# -----------\n",
    "# actual cost\n",
    "# actual making charges\n",
    "# discount on making charges\n",
    "# amount to be paid\n",
    "\n",
    "price = int(input(\"Enter price of gold per gram ~> \"))\n",
    "weight = int(input(\"Enter weight of gold ~> \"))\n",
    "\n",
    "actualCost = price * weight\n",
    "actualMakingCharges = actualCost * 0.2\n",
    "discountOnMakingCharges = actualMakingCharges * 0.3\n",
    "amountToBePaid = actualCost + actualMakingCharges - discountOnMakingCharges\n",
    "\n",
    "print(\"------------------------------\")\n",
    "print(actualCost, \"is the actual cost\")\n",
    "print(actualMakingCharges, \"is the actual making charges\")\n",
    "print(discountOnMakingCharges, \"is the discount on making charges\")\n",
    "print(amountToBePaid, \"is the amount to be paid\")\n"
   ]
  },
  {
   "cell_type": "code",
   "execution_count": null,
   "id": "a934e76e-9064-4596-ab4a-944d4bca9e07",
   "metadata": {},
   "outputs": [],
   "source": [
    "# find diffrence between simple intrest and compunt intrest\n",
    "\n",
    "p = int(input(\"Enter principal amount ~> \"))\n",
    "r = int(input(\"Enter rate of intrest ~> \"))\n",
    "t = int(input(\"Enter time period ~> \"))\n",
    "\n",
    "si = (p * r * t) / 100\n",
    "\n",
    "a = pow(p * (1 + r / 100), t)\n",
    "ci = a - p\n",
    "\n",
    "print(\"Diffrence between Simple intrest and compunt intrest is\", ci - si)"
   ]
  },
  {
   "cell_type": "code",
   "execution_count": null,
   "id": "de99229b-4e58-400a-916a-209208a59600",
   "metadata": {},
   "outputs": [],
   "source": [
    "# input 3 integer values\n",
    "# print largest\n",
    "# use simple if\n",
    "\n",
    "a = int(input(\"Enter a integer value ~> \"))\n",
    "b = int(input(\"Enter a integer value ~> \"))\n",
    "c = int(input(\"Enter a integer value ~> \"))\n",
    "\n",
    "lar = a\n",
    "\n",
    "if lar < b:\n",
    "    lar = b\n",
    "if lar < c:\n",
    "    lar = c\n",
    "\n",
    "print(\"largest no. is\", lar)"
   ]
  },
  {
   "cell_type": "code",
   "execution_count": null,
   "id": "a1dd35d0",
   "metadata": {},
   "outputs": [],
   "source": [
    "# input a year\n",
    "# check if leap year\n",
    "\n",
    "year = int(input(\"Enter a year ~>\"))\n",
    "if year % 4 == 0 and year % 100 != 0 or year % 400 == 0:\n",
    "    print(\"Leap year\")\n",
    "else:\n",
    "    print(\"not a leap year\")"
   ]
  },
  {
   "cell_type": "code",
   "execution_count": null,
   "id": "daa530ae",
   "metadata": {},
   "outputs": [],
   "source": [
    "# Enter 3 sides of a triangle\n",
    "# cleck if possible\n",
    "# if possible, display type of triangle\n",
    "\n",
    "a = int(input(\"Enter Side 1st of Triangle ~> \"))\n",
    "b = int(input(\"Enter Side 2nd of Triangle ~> \"))\n",
    "c = int(input(\"Enter Side 3rd of Triangle ~> \"))\n",
    "\n",
    "if (a + b > c) and (b + c > a) and (a + c > b):\n",
    "    print(\"possible\")\n",
    "    if a == b == c:\n",
    "        print(\"Equilateral triangle\")\n",
    "    elif (a == b) or (b == c) or (a == c):\n",
    "        print(\"ispceles triangle\")\n",
    "    else:\n",
    "        print(\"scalen triangle\")\n",
    "else:\n",
    "    print(\"triangle not possible\")\n"
   ]
  },
  {
   "cell_type": "code",
   "execution_count": null,
   "id": "d8287a5c",
   "metadata": {},
   "outputs": [],
   "source": [
    "# input 3 numbers\n",
    "# print in assending order\n",
    "\n",
    "a = int(input(\"Enter Side 1st number ~> \"))\n",
    "b = int(input(\"Enter Side 2nd number ~> \"))\n",
    "c = int(input(\"Enter Side 3rd number ~> \"))\n",
    "\n",
    "max = min = mid = None\n",
    "\n",
    "if (a > b) and (a > c):\n",
    "    max = a\n",
    "    if b > c:\n",
    "        mid = b\n",
    "        min = c\n",
    "    else:\n",
    "        mid = c\n",
    "        min = b\n",
    "elif (b > c) and (b > a):\n",
    "    max = b\n",
    "    if c > a:\n",
    "        mid = c\n",
    "        min = a\n",
    "    else:\n",
    "        mid = a\n",
    "        min = c\n",
    "else:\n",
    "    max = c\n",
    "    if b > a:\n",
    "        mid = b\n",
    "        min = a\n",
    "    else:\n",
    "        mid = a\n",
    "        min = b\n",
    "\n",
    "print(min, mid, max)\n"
   ]
  },
  {
   "cell_type": "code",
   "execution_count": 5,
   "id": "087fd9d1",
   "metadata": {},
   "outputs": [
    {
     "name": "stdout",
     "output_type": "stream",
     "text": [
      "2\n"
     ]
    }
   ],
   "source": [
    "# count occurnace of a particular character in a sentence\n",
    "str = input(\"enter your sentence\")\n",
    "ch = input(\"enter your character\")\n",
    "count = 0\n",
    "for i in str:\n",
    "    if i == ch:\n",
    "        count = count + 1\n",
    "print(count)"
   ]
  },
  {
   "cell_type": "code",
   "execution_count": 9,
   "id": "6f706794",
   "metadata": {},
   "outputs": [
    {
     "name": "stdout",
     "output_type": "stream",
     "text": [
      "0   1 1 2 3 5 8 13 "
     ]
    }
   ],
   "source": [
    "# generate fabonachi sequence\n",
    "#  0 1 1 2 3 5 8 13 ...\n",
    "\n",
    "n = int(input(\"enter n\"))\n",
    "a, b = 0, 1\n",
    "print(a, \" \", b, end=\" \")\n",
    "for i in range(2, n):\n",
    "    c = a + b\n",
    "    print(c, end=\" \")\n",
    "    a, b = b, c\n"
   ]
  },
  {
   "cell_type": "code",
   "execution_count": 13,
   "id": "6763e4b3",
   "metadata": {},
   "outputs": [
    {
     "name": "stdout",
     "output_type": "stream",
     "text": [
      "no of times u got head = 13\n",
      "no of times u got tail = 7\n"
     ]
    }
   ],
   "source": [
    "# toss a coin 20 tumes\n",
    "# count number of head and tails\n",
    "\n",
    "import random\n",
    "\n",
    "h = t = 0\n",
    "for i in range(0, 20):\n",
    "    a = int(random.random() * 2)\n",
    "    if a == 1:\n",
    "        h = h + 1\n",
    "    else:\n",
    "        t = t + 1\n",
    "print(\"no of times u got head =\", h)\n",
    "print(\"no of times u got tail =\", t)"
   ]
  },
  {
   "cell_type": "code",
   "execution_count": 21,
   "id": "40be43c0",
   "metadata": {},
   "outputs": [
    {
     "name": "stdout",
     "output_type": "stream",
     "text": [
      "354\n"
     ]
    }
   ],
   "source": [
    "# input a random number\n",
    "# reverse it\n",
    "\n",
    "numStr = input(\"enter your number\")\n",
    "rev = 0\n",
    "num = int(numStr)\n",
    "numLen = len(numStr)\n",
    "\n",
    "for i in range(numLen - 1, -1, -1):\n",
    "    x = num % 10\n",
    "    rev = rev * 10 + x\n",
    "    num = num // 10\n",
    "\n",
    "print(rev)\n"
   ]
  },
  {
   "cell_type": "code",
   "execution_count": null,
   "id": "5f609125",
   "metadata": {},
   "outputs": [],
   "source": []
  }
 ],
 "metadata": {
  "kernelspec": {
   "display_name": "Python 3",
   "language": "python",
   "name": "python3"
  },
  "language_info": {
   "codemirror_mode": {
    "name": "ipython",
    "version": 3
   },
   "file_extension": ".py",
   "mimetype": "text/x-python",
   "name": "python",
   "nbconvert_exporter": "python",
   "pygments_lexer": "ipython3",
   "version": "3.11.5"
  },
  "vscode": {
   "interpreter": {
    "hash": "ebfc0a8d552866b0d59eba665220a57de3bc06f3ac643b8bef38dd8f66781fdd"
   }
  }
 },
 "nbformat": 4,
 "nbformat_minor": 5
}
