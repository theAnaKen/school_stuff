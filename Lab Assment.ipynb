{
 "cells": [
  {
   "cell_type": "code",
   "execution_count": 1,
   "id": "cba08ccb-7557-4524-a627-54426fe4b156",
   "metadata": {},
   "outputs": [
    {
     "name": "stdout",
     "output_type": "stream",
     "text": [
      "------------------------------\n",
      "12 is the actual cost\n",
      "2.4000000000000004 is the actual making charges\n",
      "0.7200000000000001 is the discount on making charges\n",
      "13.68 is the amount to be paid\n"
     ]
    }
   ],
   "source": [
    "# import gold price per gram\n",
    "# import weight of gold\n",
    "# calculate-\n",
    "# -----------\n",
    "# actual cost\n",
    "# actual making charges\n",
    "# discount on making charges\n",
    "# amount to be paid\n",
    "\n",
    "price = int(input(\"Enter price of gold per gram ~> \"))\n",
    "weight = int(input(\"Enter weight of gold ~> \"))\n",
    "\n",
    "actualCost = price * weight\n",
    "actualMakingCharges = actualCost * 0.2\n",
    "discountOnMakingCharges = actualMakingCharges * 0.3\n",
    "amountToBePaid = actualCost + actualMakingCharges - discountOnMakingCharges\n",
    "\n",
    "print(\"------------------------------\")\n",
    "print(actualCost, \"is the actual cost\")\n",
    "print(actualMakingCharges, \"is the actual making charges\")\n",
    "print(discountOnMakingCharges, \"is the discount on making charges\")\n",
    "print(amountToBePaid, \"is the amount to be paid\")\n"
   ]
  },
  {
   "cell_type": "code",
   "execution_count": 4,
   "id": "a934e76e-9064-4596-ab4a-944d4bca9e07",
   "metadata": {},
   "outputs": [
    {
     "name": "stdout",
     "output_type": "stream",
     "text": [
      "Enter principal amount ~>  500\n",
      "Enter rate of intrest ~>  3\n",
      "Enter time period ~>  5\n"
     ]
    },
    {
     "name": "stdout",
     "output_type": "stream",
     "text": [
      "Diffrence between Simple intrest and compunt intrest is 36227314821300.0\n"
     ]
    }
   ],
   "source": [
    "# find diffrence between simple intrest and compunt intrest\n",
    "\n",
    "p = int(input(\"Enter principal amount ~> \"))\n",
    "r = int(input(\"Enter rate of intrest ~> \"))\n",
    "t = int(input(\"Enter time period ~> \"))\n",
    "\n",
    "si = (p * r * t) / 100\n",
    "\n",
    "a = pow(p * (1 + r / 100), t)\n",
    "ci = a - p\n",
    "\n",
    "print(\"Diffrence between Simple intrest and compunt intrest is\", ci - si)"
   ]
  },
  {
   "cell_type": "code",
   "execution_count": 10,
   "id": "de99229b-4e58-400a-916a-209208a59600",
   "metadata": {},
   "outputs": [
    {
     "name": "stdout",
     "output_type": "stream",
     "text": [
      "Enter a integer value ~>  3\n",
      "Enter a integer value ~>  2\n",
      "Enter a integer value ~>  5\n"
     ]
    },
    {
     "name": "stdout",
     "output_type": "stream",
     "text": [
      "largest no. is 5\n"
     ]
    }
   ],
   "source": [
    "# input 3 integer values\n",
    "# print largest\n",
    "# use simple if\n",
    "\n",
    "a = int(input(\"Enter a integer value ~> \"))\n",
    "b = int(input(\"Enter a integer value ~> \"))\n",
    "c = int(input(\"Enter a integer value ~> \"))\n",
    "\n",
    "lar = a\n",
    "\n",
    "if lar < b:\n",
    "    lar = b\n",
    "if lar < c:\n",
    "    lar = c\n",
    "\n",
    "print(\"largest no. is\", lar)"
   ]
  },
  {
   "cell_type": "code",
   "execution_count": 9,
   "id": "a1dd35d0",
   "metadata": {},
   "outputs": [
    {
     "name": "stdout",
     "output_type": "stream",
     "text": [
      "Enter a year ~> 4224\n"
     ]
    },
    {
     "name": "stdout",
     "output_type": "stream",
     "text": [
      "Leap year\n"
     ]
    }
   ],
   "source": [
    "# input a year\n",
    "# check if leap year\n",
    "\n",
    "year = int(input(\"Enter a year ~>\"))\n",
    "if year % 4 == 0 and year % 100 != 0 or year % 400 == 0:\n",
    "    print(\"Leap year\")\n",
    "else:\n",
    "    print(\"not a leap year\")"
   ]
  },
  {
   "cell_type": "code",
   "execution_count": 2,
   "id": "daa530ae",
   "metadata": {},
   "outputs": [
    {
     "name": "stdout",
     "output_type": "stream",
     "text": [
      "possible\n",
      "Equilateral triangle\n"
     ]
    }
   ],
   "source": [
    "# Enter 3 sides of a triangle\n",
    "# cleck if possible\n",
    "# if possible, display type of triangle\n",
    "\n",
    "a = int(input(\"Enter Side 1st of Triangle ~> \"))\n",
    "b = int(input(\"Enter Side 2nd of Triangle ~> \"))\n",
    "c = int(input(\"Enter Side 3rd of Triangle ~> \"))\n",
    "\n",
    "if (a + b > c) and (b + c > a) and (a + c > b):\n",
    "    print(\"possible\")\n",
    "    if a == b == c:\n",
    "        print(\"Equilateral triangle\")\n",
    "    elif (a == b) or (b == c) or (a == c):\n",
    "        print(\"ispceles triangle\")\n",
    "    else:\n",
    "        print(\"scalen triangle\")\n",
    "else:\n",
    "    print(\"triangle not possible\")\n"
   ]
  },
  {
   "cell_type": "code",
   "execution_count": null,
   "id": "d8287a5c",
   "metadata": {},
   "outputs": [],
   "source": []
  }
 ],
 "metadata": {
  "kernelspec": {
   "display_name": "Python 3",
   "language": "python",
   "name": "python3"
  },
  "language_info": {
   "codemirror_mode": {
    "name": "ipython",
    "version": 3
   },
   "file_extension": ".py",
   "mimetype": "text/x-python",
   "name": "python",
   "nbconvert_exporter": "python",
   "pygments_lexer": "ipython3",
   "version": "3.11.5"
  },
  "vscode": {
   "interpreter": {
    "hash": "ebfc0a8d552866b0d59eba665220a57de3bc06f3ac643b8bef38dd8f66781fdd"
   }
  }
 },
 "nbformat": 4,
 "nbformat_minor": 5
}
