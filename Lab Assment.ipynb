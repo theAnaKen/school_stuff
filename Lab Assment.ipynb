{
 "cells": [
  {
   "cell_type": "code",
   "execution_count": 1,
   "id": "cba08ccb-7557-4524-a627-54426fe4b156",
   "metadata": {},
   "outputs": [
    {
     "name": "stdout",
     "output_type": "stream",
     "text": [
      "Enter price of gold per gram ~>  50\n",
      "Enter weight of gold ~>  3\n"
     ]
    },
    {
     "name": "stdout",
     "output_type": "stream",
     "text": [
      "------------------------------\n",
      "150 is the actual cost\n",
      "30.0 is the actual making charges\n",
      "9.0 is the discount on making charges\n",
      "171.0 is the amount to be paid\n"
     ]
    }
   ],
   "source": [
    "# ASSIGNMENT 1\n",
    "# --------------\n",
    "\n",
    "# import gold price per gram\n",
    "\n",
    "\n",
    "# import weight of gold\n",
    "# calculate-\n",
    "# -----------\n",
    "# actual cost\n",
    "# actual making charges\n",
    "# discount on making charges\n",
    "\n",
    "\n",
    "# amount to be paid\n",
    "\n",
    "\n",
    "price = int(input(\"Enter price of gold per gram ~> \"))\n",
    "\n",
    "\n",
    "weight = int(input(\"Enter weight of gold ~> \"))\n",
    "\n",
    "\n",
    "actualCost = price * weight\n",
    "\n",
    "\n",
    "actualMakingCharges = actualCost * 0.2\n",
    "\n",
    "\n",
    "discountOnMakingCharges = actualMakingCharges * 0.3\n",
    "\n",
    "\n",
    "amountToBePaid = actualCost + actualMakingCharges - discountOnMakingCharges\n",
    "\n",
    "\n",
    "print(\"------------------------------\")\n",
    "\n",
    "\n",
    "print(actualCost, \"is the actual cost\")\n",
    "\n",
    "\n",
    "print(actualMakingCharges, \"is the actual making charges\")\n",
    "\n",
    "\n",
    "print(discountOnMakingCharges, \"is the discount on making charges\")\n",
    "\n",
    "\n",
    "print(amountToBePaid, \"is the amount to be paid\")"
   ]
  },
  {
   "cell_type": "code",
   "execution_count": 3,
   "id": "a934e76e-9064-4596-ab4a-944d4bca9e07",
   "metadata": {},
   "outputs": [
    {
     "name": "stdout",
     "output_type": "stream",
     "text": [
      "Enter principal amount ~>  350\n",
      "Enter rate of intrest ~>  4\n",
      "Enter time period ~>  2\n"
     ]
    },
    {
     "name": "stdout",
     "output_type": "stream",
     "text": [
      "Diffrence between Simple intrest and compunt intrest is 132118.0\n"
     ]
    }
   ],
   "source": [
    "# ASSIGNMENT 2\n",
    "# --------------\n",
    "\n",
    "# find diffrence between simple intrest and compunt intrest\n",
    "\n",
    "\n",
    "p = int(input(\"Enter principal amount ~> \"))\n",
    "\n",
    "\n",
    "r = int(input(\"Enter rate of intrest ~> \"))\n",
    "\n",
    "\n",
    "t = int(input(\"Enter time period ~> \"))\n",
    "\n",
    "\n",
    "si = (p * r * t) / 100\n",
    "\n",
    "\n",
    "a = pow(p * (1 + r / 100), t)\n",
    "ci = a - p\n",
    "\n",
    "\n",
    "print(\"Diffrence between Simple intrest and compunt intrest is\", ci - si)"
   ]
  },
  {
   "cell_type": "code",
   "execution_count": 4,
   "id": "de99229b-4e58-400a-916a-209208a59600",
   "metadata": {},
   "outputs": [
    {
     "name": "stdout",
     "output_type": "stream",
     "text": [
      "Enter a integer value ~>  4\n",
      "Enter a integer value ~>  3\n",
      "Enter a integer value ~>  2\n"
     ]
    },
    {
     "name": "stdout",
     "output_type": "stream",
     "text": [
      "largest no. is 4\n"
     ]
    }
   ],
   "source": [
    "# ASSIGNMENT 3\n",
    "# --------------\n",
    "\n",
    "# input 3 integer values\n",
    "# print largest\n",
    "\n",
    "\n",
    "# use simple if\n",
    "\n",
    "\n",
    "a = int(input(\"Enter a integer value ~> \"))\n",
    "\n",
    "\n",
    "b = int(input(\"Enter a integer value ~> \"))\n",
    "\n",
    "\n",
    "c = int(input(\"Enter a integer value ~> \"))\n",
    "\n",
    "lar = a\n",
    "\n",
    "\n",
    "if lar < b:\n",
    "    lar = b\n",
    "\n",
    "\n",
    "if lar < c:\n",
    "    lar = c\n",
    "\n",
    "\n",
    "print(\"largest no. is\", lar)"
   ]
  },
  {
   "cell_type": "code",
   "execution_count": 5,
   "id": "a1dd35d0",
   "metadata": {},
   "outputs": [
    {
     "name": "stdout",
     "output_type": "stream",
     "text": [
      "Enter a year ~> 5323\n"
     ]
    },
    {
     "name": "stdout",
     "output_type": "stream",
     "text": [
      "not a leap year\n"
     ]
    }
   ],
   "source": [
    "# ASSIGNMENT 4\n",
    "# --------------\n",
    "\n",
    "# input a year\n",
    "\n",
    "\n",
    "# check if leap year\n",
    "\n",
    "\n",
    "year = int(input(\"Enter a year ~>\"))\n",
    "\n",
    "\n",
    "if year % 4 == 0 and year % 100 != 0 or year % 400 == 0:\n",
    "    print(\"Leap year\")\n",
    "\n",
    "\n",
    "else:\n",
    "    print(\"not a leap year\")"
   ]
  },
  {
   "cell_type": "code",
   "execution_count": 6,
   "id": "daa530ae",
   "metadata": {},
   "outputs": [
    {
     "name": "stdout",
     "output_type": "stream",
     "text": [
      "Enter Side 1st of Triangle ~>  3\n",
      "Enter Side 2nd of Triangle ~>  2\n",
      "Enter Side 3rd of Triangle ~>  1\n"
     ]
    },
    {
     "name": "stdout",
     "output_type": "stream",
     "text": [
      "triangle not possible\n"
     ]
    }
   ],
   "source": [
    "# ASSIGNMENT 5\n",
    "# --------------\n",
    "\n",
    "# Enter 3 sides of a triangle\n",
    "\n",
    "\n",
    "# cleck if possible\n",
    "\n",
    "\n",
    "# if possible, display type of triangle\n",
    "\n",
    "\n",
    "a = int(input(\"Enter Side 1st of Triangle ~> \"))\n",
    "\n",
    "\n",
    "b = int(input(\"Enter Side 2nd of Triangle ~> \"))\n",
    "\n",
    "\n",
    "c = int(input(\"Enter Side 3rd of Triangle ~> \"))\n",
    "\n",
    "\n",
    "if (a + b > c) and (b + c > a) and (a + c > b):\n",
    "    print(\"possible\")\n",
    "\n",
    "    if a == b == c:\n",
    "        print(\"Equilateral triangle\")\n",
    "\n",
    "    elif (a == b) or (b == c) or (a == c):\n",
    "        print(\"ispceles triangle\")\n",
    "\n",
    "    else:\n",
    "        print(\"scalen triangle\")\n",
    "\n",
    "\n",
    "else:\n",
    "    print(\"triangle not possible\")"
   ]
  },
  {
   "cell_type": "code",
   "execution_count": 7,
   "id": "d8287a5c",
   "metadata": {},
   "outputs": [
    {
     "name": "stdout",
     "output_type": "stream",
     "text": [
      "Enter Side 1st number ~>  3\n",
      "Enter Side 2nd number ~>  2\n",
      "Enter Side 3rd number ~>  5\n"
     ]
    },
    {
     "name": "stdout",
     "output_type": "stream",
     "text": [
      "2 3 5\n"
     ]
    }
   ],
   "source": [
    "# ASSIGNMENT 6\n",
    "# --------------\n",
    "\n",
    "# input 3 numbers\n",
    "# print in assending order\n",
    "\n",
    "\n",
    "a = int(input(\"Enter Side 1st number ~> \"))\n",
    "b = int(input(\"Enter Side 2nd number ~> \"))\n",
    "c = int(input(\"Enter Side 3rd number ~> \"))\n",
    "\n",
    "max = min = mid = None\n",
    "\n",
    "if (a > b) and (a > c):\n",
    "    max = a\n",
    "    if b > c:\n",
    "        mid = b\n",
    "        min = c\n",
    "    else:\n",
    "        mid = c\n",
    "        min = b\n",
    "elif (b > c) and (b > a):\n",
    "    max = b\n",
    "    if c > a:\n",
    "        mid = c\n",
    "        min = a\n",
    "    else:\n",
    "        mid = a\n",
    "        min = c\n",
    "else:\n",
    "    max = c\n",
    "    if b > a:\n",
    "        mid = b\n",
    "        min = a\n",
    "\n",
    "    else:\n",
    "        mid = a\n",
    "        min = b\n",
    "\n",
    "print(min, mid, max)"
   ]
  },
  {
   "cell_type": "code",
   "execution_count": 9,
   "id": "087fd9d1",
   "metadata": {},
   "outputs": [
    {
     "name": "stdout",
     "output_type": "stream",
     "text": [
      "enter your sentence oho dam nice\n",
      "enter your character o\n"
     ]
    },
    {
     "name": "stdout",
     "output_type": "stream",
     "text": [
      "2\n"
     ]
    }
   ],
   "source": [
    "# ASSIGNMENT 7\n",
    "# --------------\n",
    "\n",
    "# count occurnace of a particular character in a sentence\n",
    "\n",
    "\n",
    "str = input(\"enter your sentence\")\n",
    "\n",
    "\n",
    "ch = input(\"enter your character\")\n",
    "\n",
    "\n",
    "count = 0\n",
    "\n",
    "\n",
    "for i in str:\n",
    "    if i == ch:\n",
    "        count = count + 1\n",
    "\n",
    "\n",
    "print(count)"
   ]
  },
  {
   "cell_type": "code",
   "execution_count": 10,
   "id": "6f706794",
   "metadata": {},
   "outputs": [
    {
     "name": "stdout",
     "output_type": "stream",
     "text": [
      "enter n 7\n"
     ]
    },
    {
     "name": "stdout",
     "output_type": "stream",
     "text": [
      "0   1 1 2 3 5 8 "
     ]
    }
   ],
   "source": [
    "# ASSIGNMENT 8\n",
    "# --------------\n",
    "\n",
    "# generate fabonachi sequence\n",
    "\n",
    "\n",
    "#  0 1 1 2 3 5 8 13 ...\n",
    "\n",
    "\n",
    "n = int(input(\"enter n\"))\n",
    "\n",
    "\n",
    "a, b = 0, 1\n",
    "\n",
    "\n",
    "print(a, \" \", b, end=\" \")\n",
    "\n",
    "\n",
    "for i in range(2, n):\n",
    "    c = a + b\n",
    "\n",
    "    print(c, end=\" \")\n",
    "    a, b = b, c"
   ]
  },
  {
   "cell_type": "code",
   "execution_count": 12,
   "id": "6763e4b3",
   "metadata": {},
   "outputs": [
    {
     "name": "stdout",
     "output_type": "stream",
     "text": [
      "no of times u got head = 4\n",
      "no of times u got tail = 16\n"
     ]
    }
   ],
   "source": [
    "# ASSIGNMENT 9\n",
    "# --------------\n",
    "\n",
    "# toss a coin 20 tumes\n",
    "\n",
    "\n",
    "# count number of head and tails\n",
    "\n",
    "\n",
    "import random\n",
    "\n",
    "\n",
    "h = t = 0\n",
    "\n",
    "\n",
    "for i in range(0, 20):\n",
    "    a = int(random.random() * 2)\n",
    "\n",
    "    if a == 1:\n",
    "        h = h + 1\n",
    "\n",
    "    else:\n",
    "        t = t + 1\n",
    "\n",
    "\n",
    "print(\"no of times u got head =\", h)\n",
    "\n",
    "\n",
    "print(\"no of times u got tail =\", t)"
   ]
  },
  {
   "cell_type": "code",
   "execution_count": 15,
   "id": "40be43c0",
   "metadata": {},
   "outputs": [
    {
     "name": "stdout",
     "output_type": "stream",
     "text": [
      "enter your number 65364\n"
     ]
    },
    {
     "name": "stdout",
     "output_type": "stream",
     "text": [
      "46356\n"
     ]
    }
   ],
   "source": [
    "# ASSIGNMENT 10\n",
    "# --------------\n",
    "\n",
    "# input a random number\n",
    "\n",
    "\n",
    "# reverse it\n",
    "\n",
    "\n",
    "numStr = input(\"enter your number\")\n",
    "rev = 0\n",
    "num = int(numStr)\n",
    "\n",
    "\n",
    "numLen = len(numStr)\n",
    "\n",
    "\n",
    "for i in range(numLen - 1, -1, -1):\n",
    "    x = num % 10\n",
    "\n",
    "    rev = rev * 10 + x\n",
    "\n",
    "    num = num // 10\n",
    "\n",
    "\n",
    "print(rev)"
   ]
  },
  {
   "cell_type": "code",
   "execution_count": 17,
   "id": "5f609125",
   "metadata": {},
   "outputs": [
    {
     "name": "stdout",
     "output_type": "stream",
     "text": [
      "50\n",
      "9.0\n"
     ]
    }
   ],
   "source": [
    "# ASSIGNMENT 11\n",
    "# --------------\n",
    "\n",
    "# extract two list slices out of a given list\n",
    "\n",
    "\n",
    "# l1= [1,2,3,4,5,6,7,8,9,10,11,12,13,14,15,16,17,18,19,20]\n",
    "\n",
    "\n",
    "# display and print the sum of elemets of 1st slice\n",
    "\n",
    "\n",
    "a = [6, 8, 10, 12, 14]\n",
    "\n",
    "sum1 = 0\n",
    "\n",
    "\n",
    "for i in a:\n",
    "    sum1 = sum1 + i\n",
    "\n",
    "\n",
    "print(sum1)\n",
    "\n",
    "\n",
    "# avg of 2nd list\n",
    "\n",
    "\n",
    "b = [1, 5, 9, 13, 17]\n",
    "\n",
    "sum2 = 0\n",
    "\n",
    "\n",
    "for i in b:\n",
    "    sum2 = sum2 + i\n",
    "\n",
    "\n",
    "avg = sum2 / len(b)\n",
    "\n",
    "\n",
    "print(avg)"
   ]
  },
  {
   "cell_type": "code",
   "execution_count": 18,
   "id": "fe2d3120-7ebc-494b-b247-c21855cdd660",
   "metadata": {},
   "outputs": [
    {
     "name": "stdout",
     "output_type": "stream",
     "text": [
      "enter no if items in list 3\n"
     ]
    },
    {
     "name": "stdout",
     "output_type": "stream",
     "text": [
      "3\n"
     ]
    },
    {
     "name": "stdout",
     "output_type": "stream",
     "text": [
      "enter value to be entered in list 2\n",
      "enter value to be entered in list 5\n",
      "enter value to be entered in list 6\n"
     ]
    },
    {
     "name": "stdout",
     "output_type": "stream",
     "text": [
      "[2, 6]\n"
     ]
    }
   ],
   "source": [
    "# ASSIGNMENT 12\n",
    "# --------------\n",
    "\n",
    "## input n vaues\n",
    "\n",
    "\n",
    "# if even, add to list\n",
    "\n",
    "\n",
    "n = int(input(\"enter no if items in list\"))\n",
    "\n",
    "\n",
    "list = []\n",
    "\n",
    "\n",
    "i = 0\n",
    "\n",
    "\n",
    "while i < n:\n",
    "    val = int(input(\"enter value to be entered in list\"))\n",
    "\n",
    "    if val % 2 == 0:\n",
    "        list.append(val)\n",
    "\n",
    "    i = i + 1\n",
    "\n",
    "print(list)"
   ]
  },
  {
   "cell_type": "code",
   "execution_count": 20,
   "id": "73946fe3",
   "metadata": {},
   "outputs": [
    {
     "name": "stdout",
     "output_type": "stream",
     "text": [
      "enter element 10\n"
     ]
    },
    {
     "name": "stdout",
     "output_type": "stream",
     "text": [
      "3\n"
     ]
    }
   ],
   "source": [
    "# ASSIGNMENT 13\n",
    "# --------------\n",
    "\n",
    "# count frequency of a given element in a list of number\n",
    "\n",
    "\n",
    "# dont use count()\n",
    "\n",
    "\n",
    "list = [10, 20, 10, 30, 40, 10]\n",
    "count = 0\n",
    "\n",
    "\n",
    "elm = int(input(\"enter element\"))\n",
    "\n",
    "\n",
    "for i in list:\n",
    "    if i == elm:\n",
    "        count = count + 1\n",
    "\n",
    "\n",
    "print(count)"
   ]
  },
  {
   "cell_type": "code",
   "execution_count": null,
   "id": "0bbfa157",
   "metadata": {},
   "outputs": [],
   "source": []
  }
 ],
 "metadata": {
  "kernelspec": {
   "display_name": "Python 3 (ipykernel)",
   "language": "python",
   "name": "python3"
  },
  "language_info": {
   "codemirror_mode": {
    "name": "ipython",
    "version": 3
   },
   "file_extension": ".py",
   "mimetype": "text/x-python",
   "name": "python",
   "nbconvert_exporter": "python",
   "pygments_lexer": "ipython3",
   "version": "3.11.5"
  },
  "vscode": {
   "interpreter": {
    "hash": "ebfc0a8d552866b0d59eba665220a57de3bc06f3ac643b8bef38dd8f66781fdd"
   }
  }
 },
 "nbformat": 4,
 "nbformat_minor": 5
}
