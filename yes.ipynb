{
 "cells": [
  {
   "cell_type": "code",
   "execution_count": 1,
   "id": "82946991-2954-4aa0-9f0d-5bde7feec601",
   "metadata": {},
   "outputs": [
    {
     "name": "stdout",
     "output_type": "stream",
     "text": [
      "hello world\n"
     ]
    }
   ],
   "source": [
    "print(\"hello world\")"
   ]
  },
  {
   "cell_type": "code",
   "execution_count": 6,
   "id": "3c1a3c14-1a86-4e07-8e1e-216baeea0a6b",
   "metadata": {},
   "outputs": [
    {
     "name": "stdout",
     "output_type": "stream",
     "text": [
      "abc\n",
      "3\n"
     ]
    }
   ],
   "source": [
    "a = \"a\\\n",
    "b\\\n",
    "c\"\n",
    "print(a)\n",
    "print(len(a))"
   ]
  },
  {
   "cell_type": "code",
   "execution_count": 26,
   "id": "bf14bac5-cdbc-4ed2-b184-d2466f05a70c",
   "metadata": {},
   "outputs": [
    {
     "name": "stdout",
     "output_type": "stream",
     "text": [
      "11\n",
      "2\n",
      "2755096570160\n",
      "2755096570160\n"
     ]
    }
   ],
   "source": [
    "a = \"11\"\n",
    "b = \"11\"\n",
    "print(a)\n",
    "print(len(a))\n",
    "print(id(a))\n",
    "print(id(b))"
   ]
  },
  {
   "cell_type": "code",
   "execution_count": 40,
   "id": "f8f6c8e0-30dd-4c04-ab9d-f3e5a3da682a",
   "metadata": {},
   "outputs": [
    {
     "name": "stdout",
     "output_type": "stream",
     "text": [
      "4\n"
     ]
    }
   ],
   "source": [
    "a = 4 + 1 * 2 // 3\n",
    "print(a)"
   ]
  },
  {
   "cell_type": "code",
   "execution_count": 1,
   "id": "e42adc6c-3e54-46cd-8be1-1fb1b1db6e2b",
   "metadata": {},
   "outputs": [],
   "source": [
    "# print(5**3**2)\n",
    "print(5**6**2**8)"
   ]
  },
  {
   "cell_type": "code",
   "execution_count": 3,
   "id": "8cd6fe39",
   "metadata": {},
   "outputs": [
    {
     "name": "stdout",
     "output_type": "stream",
     "text": [
      "6\n"
     ]
    }
   ],
   "source": [
    "# find largest among 3 noes\n",
    "\n",
    "a = int(input(\"Enter 1st number\"))\n",
    "b = int(input(\"Enter 2nd number\"))\n",
    "c = int(input(\"Enter 3rd number\"))\n",
    "\n",
    "if a > b:\n",
    "    if a > c:\n",
    "        print(a)\n",
    "    else:\n",
    "        print(c)\n",
    "else:\n",
    "    if b > c:\n",
    "        print(b)\n",
    "    else:\n",
    "        print(c)"
   ]
  },
  {
   "cell_type": "code",
   "execution_count": 1,
   "id": "9241c620",
   "metadata": {},
   "outputs": [
    {
     "name": "stdout",
     "output_type": "stream",
     "text": [
      "True\n",
      "False\n"
     ]
    }
   ],
   "source": [
    "a = 3\n",
    "b = 3.0\n",
    "print(a == b)\n",
    "print(a is b)"
   ]
  },
  {
   "cell_type": "code",
   "execution_count": 7,
   "id": "57752349",
   "metadata": {},
   "outputs": [
    {
     "name": "stdout",
     "output_type": "stream",
     "text": [
      "Mohan\n",
      "M\n",
      "a\n",
      "Mohan\n"
     ]
    }
   ],
   "source": [
    "s = \"Mohan\"\n",
    "print(s)\n",
    "print(s[0])\n",
    "print(s[-2])\n",
    "# s[1] = \"e\"  # kaam nahi krta\n",
    "print(s)"
   ]
  },
  {
   "cell_type": "code",
   "execution_count": 10,
   "id": "1286e37b",
   "metadata": {},
   "outputs": [
    {
     "name": "stdout",
     "output_type": "stream",
     "text": [
      "True\n",
      "True\n",
      "True\n",
      "False\n",
      "False\n"
     ]
    }
   ],
   "source": [
    "a, b, c = 1, 1, 2\n",
    "d = a + b\n",
    "e = 1.0\n",
    "f = 1.0\n",
    "g = 2.0\n",
    "h = e + f\n",
    "print(c == d)\n",
    "print(c is d)\n",
    "print(g == h)\n",
    "print(g is h)\n",
    "print(f is e)"
   ]
  },
  {
   "cell_type": "code",
   "execution_count": 15,
   "id": "337c85aa",
   "metadata": {},
   "outputs": [
    {
     "name": "stdout",
     "output_type": "stream",
     "text": [
      "0.0\n",
      "True\n",
      "False\n",
      "True\n"
     ]
    }
   ],
   "source": [
    "a, b, c = 1, 1, 1\n",
    "d = 3.0\n",
    "e = a + b + c - d\n",
    "f = a + b + c == d\n",
    "\n",
    "z = 3\n",
    "\n",
    "print(e)\n",
    "print(f)\n",
    "print(z is d)\n",
    "print(z == d)"
   ]
  },
  {
   "cell_type": "code",
   "execution_count": 21,
   "id": "c3109f4f",
   "metadata": {},
   "outputs": [
    {
     "name": "stdout",
     "output_type": "stream",
     "text": [
      "0.30000000000000004\n",
      "19683\n",
      "0.0\n",
      "28.0\n"
     ]
    }
   ],
   "source": [
    "print(0.1 + 0.1 + 0.1)\n",
    "print(3**3**2)\n",
    "print(7 * ((8 / 5) // 2))\n",
    "print(7 * 8 / (5 // 2))"
   ]
  },
  {
   "cell_type": "code",
   "execution_count": 4,
   "id": "e2ae426d",
   "metadata": {},
   "outputs": [
    {
     "name": "stdout",
     "output_type": "stream",
     "text": [
      "12.988698285718414\n"
     ]
    }
   ],
   "source": [
    "# s = a/2 + a / 5 + a / 8 + a/ 11... a / 20\n",
    "\n",
    "a = int(input(\"enter a\"))\n",
    "s = 0\n",
    "for i in range(2, 21):\n",
    "    # print(i)\n",
    "    s = s + (a / i)\n",
    "print(s)"
   ]
  },
  {
   "cell_type": "code",
   "execution_count": 27,
   "id": "206ddbee",
   "metadata": {},
   "outputs": [
    {
     "name": "stdout",
     "output_type": "stream",
     "text": [
      "1.43656365691809\n"
     ]
    }
   ],
   "source": [
    "# s = a/2! + a / 3! + a / 4! + a/ 5!... a / 20!\n",
    "\n",
    "s = 0\n",
    "a = int(input(\"enter a\"))\n",
    "for i in range(2, 21):\n",
    "    fact = 1\n",
    "    for j in range(i, 0, -1):\n",
    "        fact = fact * j\n",
    "    s = s + (a / fact)\n",
    "\n",
    "print(s)"
   ]
  },
  {
   "cell_type": "code",
   "execution_count": 34,
   "id": "7ef65c24",
   "metadata": {},
   "outputs": [
    {
     "name": "stdout",
     "output_type": "stream",
     "text": [
      "1\n",
      "4.0\n",
      "2\n",
      "16.0\n",
      "3\n",
      "64.0\n",
      "4\n",
      "256.0\n",
      "0.4375\n"
     ]
    }
   ],
   "source": [
    "# s = 1/a + 2/a^2 + 3 / a ^ 3 .... a / a^n\n",
    "\n",
    "import math\n",
    "\n",
    "a = int(input(\"enter a\"))\n",
    "s = 0\n",
    "for i in range(1, a + 1):\n",
    "    s = s + (i / math.pow(a, i))\n",
    "\n",
    "print(s)"
   ]
  },
  {
   "cell_type": "code",
   "execution_count": null,
   "id": "4a6b9d23",
   "metadata": {},
   "outputs": [],
   "source": []
  }
 ],
 "metadata": {
  "kernelspec": {
   "display_name": "Python 3 (ipykernel)",
   "language": "python",
   "name": "python3"
  },
  "language_info": {
   "codemirror_mode": {
    "name": "ipython",
    "version": 3
   },
   "file_extension": ".py",
   "mimetype": "text/x-python",
   "name": "python",
   "nbconvert_exporter": "python",
   "pygments_lexer": "ipython3",
   "version": "3.11.5"
  }
 },
 "nbformat": 4,
 "nbformat_minor": 5
}
